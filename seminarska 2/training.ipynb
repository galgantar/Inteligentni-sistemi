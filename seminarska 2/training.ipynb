{
 "cells": [
  {
   "cell_type": "code",
   "execution_count": 1,
   "metadata": {},
   "outputs": [
    {
     "name": "stderr",
     "output_type": "stream",
     "text": [
      "2024-01-03 18:32:15.641789: I tensorflow/core/platform/cpu_feature_guard.cc:182] This TensorFlow binary is optimized to use available CPU instructions in performance-critical operations.\n",
      "To enable the following instructions: AVX2 FMA, in other operations, rebuild TensorFlow with the appropriate compiler flags.\n"
     ]
    }
   ],
   "source": [
    "import pandas as pd\n",
    "import numpy as np\n",
    "from sklearn.model_selection import train_test_split\n",
    "import tensorflow as tf"
   ]
  },
  {
   "cell_type": "markdown",
   "metadata": {},
   "source": [
    "Predictions (deep learning model)"
   ]
  },
  {
   "cell_type": "code",
   "execution_count": 2,
   "metadata": {},
   "outputs": [],
   "source": [
    "df = pd.read_csv(\"embeddingsCTXencode_plus_Sbert.csv\") # embeddings\n",
    "df2 = pd.read_json(\"dataset.json\") # targets"
   ]
  },
  {
   "cell_type": "code",
   "execution_count": 3,
   "metadata": {},
   "outputs": [],
   "source": [
    "df2 = df2.iloc[1:] # remove first line because the embedding is title (TODO: fix csv)"
   ]
  },
  {
   "cell_type": "code",
   "execution_count": 4,
   "metadata": {},
   "outputs": [
    {
     "name": "stdout",
     "output_type": "stream",
     "text": [
      "(148121, 1536) (148121, 6)\n"
     ]
    }
   ],
   "source": [
    "print(df.shape, df2.shape)"
   ]
  },
  {
   "cell_type": "code",
   "execution_count": 5,
   "metadata": {},
   "outputs": [
    {
     "name": "stdout",
     "output_type": "stream",
     "text": [
      "(148121, 1536) (148121, 15)\n"
     ]
    }
   ],
   "source": [
    "X = np.array(df.values.tolist())\n",
    "Y = pd.get_dummies(df2['category']).values  # One-hot encoding of categories\n",
    "\n",
    "print(X.shape, Y.shape)"
   ]
  },
  {
   "cell_type": "code",
   "execution_count": 12,
   "metadata": {},
   "outputs": [
    {
     "name": "stdout",
     "output_type": "stream",
     "text": [
      "Epoch 1/10\n",
      "3703/3703 [==============================] - 62s 16ms/step - loss: 0.9531 - accuracy: 0.7129\n",
      "Epoch 2/10\n",
      "3703/3703 [==============================] - 61s 16ms/step - loss: 0.7525 - accuracy: 0.7707\n",
      "Epoch 3/10\n",
      "3703/3703 [==============================] - 61s 16ms/step - loss: 0.6857 - accuracy: 0.7884\n",
      "Epoch 4/10\n",
      "3703/3703 [==============================] - 65s 18ms/step - loss: 0.6349 - accuracy: 0.8006\n",
      "Epoch 5/10\n",
      "3703/3703 [==============================] - 66s 18ms/step - loss: 0.5973 - accuracy: 0.8114\n",
      "Epoch 6/10\n",
      "3703/3703 [==============================] - 65s 18ms/step - loss: 0.5648 - accuracy: 0.8188\n",
      "Epoch 7/10\n",
      "3703/3703 [==============================] - 67s 18ms/step - loss: 0.5368 - accuracy: 0.8267\n",
      "Epoch 8/10\n",
      "3703/3703 [==============================] - 66s 18ms/step - loss: 0.5113 - accuracy: 0.8322\n",
      "Epoch 9/10\n",
      "3703/3703 [==============================] - 66s 18ms/step - loss: 0.4881 - accuracy: 0.8391\n",
      "Epoch 10/10\n",
      "3703/3703 [==============================] - 66s 18ms/step - loss: 0.4669 - accuracy: 0.8451\n",
      "926/926 [==============================] - 4s 4ms/step\n",
      "Target: COMEDY, Prediction: COMEDY, Correctness: True\n",
      "Target: POLITICS, Prediction: POLITICS, Correctness: True\n",
      "Target: TRAVEL, Prediction: TRAVEL, Correctness: True\n",
      "Target: POLITICS, Prediction: COMEDY, Correctness: False\n",
      "Target: COMEDY, Prediction: COMEDY, Correctness: True\n",
      "Target: COMEDY, Prediction: COMEDY, Correctness: True\n",
      "Target: WELLNESS, Prediction: PARENTS, Correctness: False\n",
      "Target: POLITICS, Prediction: POLITICS, Correctness: True\n",
      "Target: PARENTING, Prediction: PARENTING, Correctness: True\n",
      "Target: BLACK VOICES, Prediction: ENTERTAINMENT, Correctness: False\n",
      "Target: HEALTHY LIVING, Prediction: HEALTHY LIVING, Correctness: True\n",
      "Target: TRAVEL, Prediction: TRAVEL, Correctness: True\n",
      "Target: HEALTHY LIVING, Prediction: HEALTHY LIVING, Correctness: True\n",
      "Target: POLITICS, Prediction: POLITICS, Correctness: True\n",
      "Target: HEALTHY LIVING, Prediction: HEALTHY LIVING, Correctness: True\n",
      "Target: COMEDY, Prediction: COMEDY, Correctness: True\n",
      "Target: FOOD & DRINK, Prediction: FOOD & DRINK, Correctness: True\n",
      "Target: QUEER VOICES, Prediction: QUEER VOICES, Correctness: True\n",
      "Target: QUEER VOICES, Prediction: QUEER VOICES, Correctness: True\n",
      "Target: HEALTHY LIVING, Prediction: FOOD & DRINK, Correctness: False\n",
      "Target: TRAVEL, Prediction: TRAVEL, Correctness: True\n",
      "Target: COMEDY, Prediction: COMEDY, Correctness: True\n",
      "Target: POLITICS, Prediction: BUSINESS, Correctness: False\n",
      "Target: HEALTHY LIVING, Prediction: HEALTHY LIVING, Correctness: True\n",
      "Target: BUSINESS, Prediction: BUSINESS, Correctness: True\n",
      "Target: PARENTING, Prediction: PARENTING, Correctness: True\n",
      "Target: COMEDY, Prediction: COMEDY, Correctness: True\n",
      "Target: ENTERTAINMENT, Prediction: POLITICS, Correctness: False\n",
      "Target: QUEER VOICES, Prediction: QUEER VOICES, Correctness: True\n",
      "Target: HOME & LIVING, Prediction: HOME & LIVING, Correctness: True\n",
      "Target: PARENTS, Prediction: PARENTS, Correctness: True\n",
      "Target: HEALTHY LIVING, Prediction: HEALTHY LIVING, Correctness: True\n",
      "Target: POLITICS, Prediction: COMEDY, Correctness: False\n",
      "Target: TRAVEL, Prediction: TRAVEL, Correctness: True\n",
      "Target: BLACK VOICES, Prediction: POLITICS, Correctness: False\n",
      "Target: POLITICS, Prediction: POLITICS, Correctness: True\n",
      "Target: COMEDY, Prediction: HEALTHY LIVING, Correctness: False\n",
      "Target: QUEER VOICES, Prediction: QUEER VOICES, Correctness: True\n",
      "Target: QUEER VOICES, Prediction: HEALTHY LIVING, Correctness: False\n",
      "Target: COMEDY, Prediction: COMEDY, Correctness: True\n",
      "Target: HOME & LIVING, Prediction: COMEDY, Correctness: False\n",
      "Target: HEALTHY LIVING, Prediction: HEALTHY LIVING, Correctness: True\n",
      "Target: COMEDY, Prediction: COMEDY, Correctness: True\n",
      "Target: POLITICS, Prediction: POLITICS, Correctness: True\n",
      "Target: COMEDY, Prediction: COMEDY, Correctness: True\n",
      "Target: PARENTS, Prediction: PARENTS, Correctness: True\n",
      "Target: HEALTHY LIVING, Prediction: HEALTHY LIVING, Correctness: True\n",
      "Target: COMEDY, Prediction: COMEDY, Correctness: True\n",
      "Target: POLITICS, Prediction: POLITICS, Correctness: True\n",
      "Target: COMEDY, Prediction: COMEDY, Correctness: True\n",
      "Target: BUSINESS, Prediction: BUSINESS, Correctness: True\n",
      "Target: BUSINESS, Prediction: HEALTHY LIVING, Correctness: False\n",
      "Target: COMEDY, Prediction: PARENTING, Correctness: False\n",
      "Target: POLITICS, Prediction: POLITICS, Correctness: True\n",
      "Target: STYLE & BEAUTY, Prediction: STYLE & BEAUTY, Correctness: True\n",
      "Target: QUEER VOICES, Prediction: HEALTHY LIVING, Correctness: False\n",
      "Target: SPORTS, Prediction: SPORTS, Correctness: True\n",
      "Target: POLITICS, Prediction: POLITICS, Correctness: True\n",
      "Target: POLITICS, Prediction: POLITICS, Correctness: True\n",
      "Target: STYLE & BEAUTY, Prediction: STYLE & BEAUTY, Correctness: True\n",
      "Target: HEALTHY LIVING, Prediction: HEALTHY LIVING, Correctness: True\n",
      "Target: PARENTING, Prediction: PARENTING, Correctness: True\n",
      "Target: HEALTHY LIVING, Prediction: HEALTHY LIVING, Correctness: True\n",
      "Target: HEALTHY LIVING, Prediction: HEALTHY LIVING, Correctness: True\n",
      "Target: COMEDY, Prediction: COMEDY, Correctness: True\n",
      "Target: POLITICS, Prediction: POLITICS, Correctness: True\n",
      "Target: STYLE & BEAUTY, Prediction: STYLE & BEAUTY, Correctness: True\n",
      "Target: POLITICS, Prediction: POLITICS, Correctness: True\n",
      "Target: ENTERTAINMENT, Prediction: ENTERTAINMENT, Correctness: True\n",
      "Target: HEALTHY LIVING, Prediction: HEALTHY LIVING, Correctness: True\n",
      "Target: HEALTHY LIVING, Prediction: HEALTHY LIVING, Correctness: True\n",
      "Target: BUSINESS, Prediction: BUSINESS, Correctness: True\n",
      "Target: POLITICS, Prediction: POLITICS, Correctness: True\n",
      "Target: QUEER VOICES, Prediction: FOOD & DRINK, Correctness: False\n",
      "Target: COMEDY, Prediction: COMEDY, Correctness: True\n",
      "Target: ENTERTAINMENT, Prediction: POLITICS, Correctness: False\n",
      "Target: POLITICS, Prediction: FOOD & DRINK, Correctness: False\n",
      "Target: HEALTHY LIVING, Prediction: HEALTHY LIVING, Correctness: True\n",
      "Target: HEALTHY LIVING, Prediction: HEALTHY LIVING, Correctness: True\n",
      "Target: COMEDY, Prediction: COMEDY, Correctness: True\n",
      "Target: COMEDY, Prediction: COMEDY, Correctness: True\n",
      "Target: PARENTING, Prediction: COMEDY, Correctness: False\n",
      "Target: PARENTING, Prediction: PARENTING, Correctness: True\n",
      "Target: POLITICS, Prediction: POLITICS, Correctness: True\n",
      "Target: TRAVEL, Prediction: TRAVEL, Correctness: True\n",
      "Target: COMEDY, Prediction: COMEDY, Correctness: True\n",
      "Target: QUEER VOICES, Prediction: FOOD & DRINK, Correctness: False\n",
      "Target: HEALTHY LIVING, Prediction: HEALTHY LIVING, Correctness: True\n",
      "Target: BUSINESS, Prediction: HEALTHY LIVING, Correctness: False\n",
      "Target: SPORTS, Prediction: PARENTING, Correctness: False\n",
      "Target: STYLE & BEAUTY, Prediction: STYLE & BEAUTY, Correctness: True\n",
      "Target: TRAVEL, Prediction: TRAVEL, Correctness: True\n",
      "Target: FOOD & DRINK, Prediction: POLITICS, Correctness: False\n",
      "Target: POLITICS, Prediction: POLITICS, Correctness: True\n",
      "Target: HEALTHY LIVING, Prediction: SPORTS, Correctness: False\n",
      "Target: COMEDY, Prediction: COMEDY, Correctness: True\n",
      "Target: TRAVEL, Prediction: TRAVEL, Correctness: True\n",
      "Target: ENTERTAINMENT, Prediction: ENTERTAINMENT, Correctness: True\n",
      "Target: HEALTHY LIVING, Prediction: HEALTHY LIVING, Correctness: True\n",
      "Target: COMEDY, Prediction: COMEDY, Correctness: True\n"
     ]
    }
   ],
   "source": [
    "# Split the dataset\n",
    "X_train, X_test, Y_train, Y_test = train_test_split(X, Y, test_size=0.2, random_state=42)\n",
    "\n",
    "# TensorFlow model\n",
    "model = tf.keras.Sequential([\n",
    "    tf.keras.layers.Dense(512, activation='relu'),\n",
    "    tf.keras.layers.Dense(128, activation='relu'),\n",
    "    tf.keras.layers.Dropout(0.5),\n",
    "    tf.keras.layers.Dense(Y.shape[1], activation='softmax')  # Prediction head\n",
    "])\n",
    "\n",
    "model.compile(optimizer='adam', loss='categorical_crossentropy', metrics=['accuracy'])\n",
    "\n",
    "# Train the model\n",
    "model.fit(X_train, Y_train, epochs=10, batch_size=32)\n",
    "\n",
    "# Make predictions\n",
    "predictions = model.predict(X_test)\n",
    "predicted_categories = np.argmax(predictions, axis=1)\n",
    "\n",
    "# Display predictions\n",
    "for pred, y in zip(predicted_categories[:100], np.argmax(Y_test, axis=1)):\n",
    "    print(f\"Target: {df2['category'].unique()[y]}, Prediction: {df2['category'].unique()[pred]}, Correctness: {pred == y}\")\n"
   ]
  },
  {
   "cell_type": "code",
   "execution_count": 13,
   "metadata": {},
   "outputs": [
    {
     "name": "stdout",
     "output_type": "stream",
     "text": [
      "23772 29625\n",
      "ACC 0.8024303797468354\n"
     ]
    }
   ],
   "source": [
    "N = len(predicted_categories)\n",
    "c = 0\n",
    "for pred, y in zip(predicted_categories, np.argmax(Y_test, axis=1)):\n",
    "    if pred == y:\n",
    "        c += 1\n",
    "print(c, N)\n",
    "print(\"ACC\", c/N)"
   ]
  }
 ],
 "metadata": {
  "kernelspec": {
   "display_name": "Python 3",
   "language": "python",
   "name": "python3"
  },
  "language_info": {
   "codemirror_mode": {
    "name": "ipython",
    "version": 3
   },
   "file_extension": ".py",
   "mimetype": "text/x-python",
   "name": "python",
   "nbconvert_exporter": "python",
   "pygments_lexer": "ipython3",
   "version": "3.11.6"
  }
 },
 "nbformat": 4,
 "nbformat_minor": 2
}
