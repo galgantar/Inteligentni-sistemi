{
 "cells": [
  {
   "cell_type": "code",
   "execution_count": 14,
   "metadata": {},
   "outputs": [],
   "source": [
    "import pandas as pd\n",
    "import numpy as np\n",
    "from sklearn.model_selection import train_test_split\n",
    "import tensorflow as tf"
   ]
  },
  {
   "cell_type": "markdown",
   "metadata": {},
   "source": [
    "Predictions (deep learning model)"
   ]
  },
  {
   "cell_type": "code",
   "execution_count": 16,
   "metadata": {},
   "outputs": [
    {
     "name": "stdout",
     "output_type": "stream",
     "text": [
      "(148122, 1536) (148122, 6)\n"
     ]
    }
   ],
   "source": [
    "emb_df = pd.read_csv(\"sbert_embeddings.csv\", header=None) # embeddings\n",
    "data_df = pd.read_json(\"dataset.json\") # targets\n",
    "print(emb_df.shape, data_df.shape)"
   ]
  },
  {
   "cell_type": "code",
   "execution_count": 17,
   "metadata": {},
   "outputs": [
    {
     "name": "stdout",
     "output_type": "stream",
     "text": [
      "(148122, 1536) (148122, 15)\n"
     ]
    }
   ],
   "source": [
    "X = np.array(emb_df.values.tolist())[:]\n",
    "Y = pd.get_dummies(data_df['category']).values[:]  # One-hot encoding of categories\n",
    "print(X.shape, Y.shape)"
   ]
  },
  {
   "cell_type": "code",
   "execution_count": 34,
   "metadata": {},
   "outputs": [
    {
     "name": "stdout",
     "output_type": "stream",
     "text": [
      "Epoch 1/10\n",
      "25/25 [==============================] - 2s 17ms/step - loss: 1.1761 - accuracy: 0.6687\n",
      "Epoch 2/10\n",
      "25/25 [==============================] - 0s 17ms/step - loss: 0.6002 - accuracy: 0.8238\n",
      "Epoch 3/10\n",
      "25/25 [==============================] - 1s 21ms/step - loss: 0.4155 - accuracy: 0.8963\n",
      "Epoch 4/10\n",
      "25/25 [==============================] - 0s 17ms/step - loss: 0.3198 - accuracy: 0.9075\n",
      "Epoch 5/10\n",
      "25/25 [==============================] - 0s 17ms/step - loss: 0.2277 - accuracy: 0.9337\n",
      "Epoch 6/10\n",
      "25/25 [==============================] - 0s 17ms/step - loss: 0.1626 - accuracy: 0.9463\n",
      "Epoch 7/10\n",
      "25/25 [==============================] - 0s 17ms/step - loss: 0.1237 - accuracy: 0.9700\n",
      "Epoch 8/10\n",
      "25/25 [==============================] - 1s 20ms/step - loss: 0.1141 - accuracy: 0.9675\n",
      "Epoch 9/10\n",
      "25/25 [==============================] - 0s 18ms/step - loss: 0.0900 - accuracy: 0.9750\n",
      "Epoch 10/10\n",
      "25/25 [==============================] - 0s 18ms/step - loss: 0.0831 - accuracy: 0.9775\n",
      "7/7 [==============================] - 0s 5ms/step\n"
     ]
    }
   ],
   "source": [
    "# Split the dataset\n",
    "X_train, X_test, Y_train, Y_test = train_test_split(X, Y, test_size=0.2, random_state=42)\n",
    "\n",
    "# TensorFlow model\n",
    "model = tf.keras.Sequential([\n",
    "    tf.keras.layers.Dense(512, activation='relu'),\n",
    "    tf.keras.layers.Dense(128, activation='relu'),\n",
    "    tf.keras.layers.Dropout(0.5),\n",
    "    tf.keras.layers.Dense(Y.shape[1], activation='softmax')  # Prediction head\n",
    "])\n",
    "\n",
    "model.compile(optimizer='adam', loss='categorical_crossentropy', metrics=['accuracy'])\n",
    "\n",
    "# Train the model\n",
    "model.fit(X_train, Y_train, epochs=10, batch_size=32)\n",
    "\n",
    "# Make predictions\n",
    "predictions = model.predict(X_test)\n",
    "predicted_categories = np.argmax(predictions, axis=1)\n"
   ]
  },
  {
   "cell_type": "code",
   "execution_count": 6,
   "metadata": {},
   "outputs": [
    {
     "name": "stdout",
     "output_type": "stream",
     "text": [
      "1712 2000\n",
      "ACC 0.856\n"
     ]
    }
   ],
   "source": [
    "N = len(predicted_categories)\n",
    "c = 0\n",
    "for pred, y in zip(predicted_categories, np.argmax(Y_test, axis=1)):\n",
    "    if pred == y:\n",
    "        c += 1\n",
    "print(c, N)\n",
    "print(\"ACC\", c/N)"
   ]
  },
  {
   "cell_type": "markdown",
   "metadata": {},
   "source": [
    "# Preliminary hyperparameter tuning"
   ]
  },
  {
   "cell_type": "code",
   "execution_count": null,
   "metadata": {},
   "outputs": [],
   "source": [
    "X_train_global, X_test_global, Y_train_global, Y_test_global = train_test_split(X, Y, test_size=0.2, random_state=42)"
   ]
  },
  {
   "cell_type": "code",
   "execution_count": 101,
   "metadata": {},
   "outputs": [
    {
     "name": "stdout",
     "output_type": "stream",
     "text": [
      "Reloading Tuner from hyperband/my_tuning_project/tuner0.json\n",
      "Search space summary\n",
      "Default search space size: 4\n",
      "units_1 (Int)\n",
      "{'default': None, 'conditions': [], 'min_value': 256, 'max_value': 1024, 'step': 128, 'sampling': 'linear'}\n",
      "weight_decay (Float)\n",
      "{'default': 1e-06, 'conditions': [], 'min_value': 1e-06, 'max_value': 0.01, 'step': None, 'sampling': 'log'}\n",
      "dropout (Float)\n",
      "{'default': 0.2, 'conditions': [], 'min_value': 0.2, 'max_value': 0.5, 'step': 0.1, 'sampling': 'linear'}\n",
      "learning_rate (Float)\n",
      "{'default': 0.0001, 'conditions': [], 'min_value': 0.0001, 'max_value': 0.01, 'step': None, 'sampling': 'log'}\n",
      "Best Hyperparameters:\n",
      "{'units_1': 896, 'weight_decay': 4.302778030652062e-05, 'dropout': 0.30000000000000004, 'learning_rate': 0.0004055961741658466, 'tuner/epochs': 2, 'tuner/initial_epoch': 0, 'tuner/bracket': 2, 'tuner/round': 0}\n",
      "INFO:tensorflow:Assets written to: data/best_model/assets\n"
     ]
    },
    {
     "name": "stderr",
     "output_type": "stream",
     "text": [
      "INFO:tensorflow:Assets written to: data/best_model/assets\n"
     ]
    }
   ],
   "source": [
    "import tensorflow as tf\n",
    "from tensorflow.keras import regularizers\n",
    "from tensorflow.keras.models import Sequential\n",
    "from tensorflow.keras.layers import Dense, Dropout\n",
    "from tensorflow.keras.optimizers import Adam\n",
    "from tensorflow.keras.callbacks import EarlyStopping\n",
    "from scikeras.wrappers import KerasClassifier \n",
    "from sklearn.model_selection import StratifiedKFold, cross_val_score\n",
    "from kerastuner.tuners import Hyperband\n",
    "\n",
    "# Define the model creation function with hyperparameters\n",
    "def create_model(hp):\n",
    "    model = Sequential()\n",
    "    model.add(Dense(units=hp.Int('units_1', min_value=256, max_value=1024, step=128),\n",
    "                    activation='relu', kernel_regularizer=regularizers.l2(hp.Float('weight_decay', min_value=1e-6, max_value=1e-2, sampling='log'))))\n",
    "    model.add(Dropout(rate=hp.Float('dropout', min_value=0.2, max_value=0.5, step=0.1)))\n",
    "    model.add(Dense(units=128, activation='relu'))\n",
    "    model.add(Dense(units=Y.shape[1], activation='softmax'))\n",
    "\n",
    "    optimizer = Adam(learning_rate=hp.Float('learning_rate', min_value=1e-4, max_value=1e-2, sampling='log'))\n",
    "    model.compile(optimizer=optimizer, loss='categorical_crossentropy', metrics=['accuracy'])\n",
    "    return model\n",
    "\n",
    "# Initialize KerasClassifier with the model creation function\n",
    "model = KerasClassifier(build_fn=create_model, batch_size=32, verbose=0)\n",
    "\n",
    "# Perform hyperparameter tuning using Hyperband tuner\n",
    "tuner = Hyperband(\n",
    "    create_model,\n",
    "    objective='val_accuracy',\n",
    "    max_epochs=10,\n",
    "    factor=3,\n",
    "    directory='hyperband',\n",
    "    project_name='my_tuning_project'\n",
    ")\n",
    "\n",
    "tuner.search_space_summary()\n",
    "\n",
    "# Run the hyperparameter search\n",
    "tuner.search(X_train_global, Y_train_global, epochs=10, batch_size=32, validation_split=0.3, callbacks=[EarlyStopping('val_loss', patience=5)])\n",
    "\n",
    "# Get the best hyperparameters\n",
    "best_hp = tuner.get_best_hyperparameters(num_trials=1)[0]\n",
    "\n",
    "# Print the best hyperparameters\n",
    "print(\"Best Hyperparameters:\")\n",
    "print(best_hp.values)\n",
    "\n",
    "# Retrain the model with the best hyperparameters\n",
    "best_model = tuner.get_best_models(num_models=1)[0]\n",
    "# Ensure correct dimensions\n",
    "best_model.fit(X[0], Y[0], epochs=1, batch_size=32, verbose=False)\n",
    "best_model.save(\"data/best_model\")"
   ]
  },
  {
   "cell_type": "markdown",
   "metadata": {},
   "source": [
    "# Cross validation"
   ]
  },
  {
   "cell_type": "markdown",
   "metadata": {},
   "source": [
    "The last batch is important - it represents the batch not used when hypertuning - hyperparams can also overfit!!"
   ]
  },
  {
   "cell_type": "code",
   "execution_count": 103,
   "metadata": {},
   "outputs": [
    {
     "name": "stdout",
     "output_type": "stream",
     "text": [
      "Training on fold 1...\n",
      "Epoch 1/10\n",
      "4629/4629 [==============================] - 138s 30ms/step - loss: 0.7753 - accuracy: 0.7673\n",
      "Epoch 2/10\n",
      "4629/4629 [==============================] - 136s 29ms/step - loss: 0.7298 - accuracy: 0.7822\n",
      "Epoch 3/10\n",
      "4629/4629 [==============================] - 131s 28ms/step - loss: 0.7039 - accuracy: 0.7920\n",
      "Epoch 4/10\n",
      "4629/4629 [==============================] - 136s 29ms/step - loss: 0.6853 - accuracy: 0.7980\n",
      "Epoch 5/10\n",
      "4629/4629 [==============================] - 140s 30ms/step - loss: 0.6677 - accuracy: 0.8049\n",
      "Epoch 6/10\n",
      "4629/4629 [==============================] - 138s 30ms/step - loss: 0.6557 - accuracy: 0.8094\n",
      "Epoch 7/10\n",
      "4629/4629 [==============================] - 151s 33ms/step - loss: 0.6444 - accuracy: 0.8132\n",
      "Epoch 8/10\n",
      "4629/4629 [==============================] - 242s 52ms/step - loss: 0.6336 - accuracy: 0.8165\n",
      "Epoch 9/10\n",
      "4629/4629 [==============================] - 156s 34ms/step - loss: 0.6264 - accuracy: 0.8197\n",
      "Epoch 10/10\n",
      "4629/4629 [==============================] - 152s 33ms/step - loss: 0.6180 - accuracy: 0.8233\n",
      "Sucess\n",
      "1543/1543 [==============================] - 9s 6ms/step\n",
      "Accuracy for fold 1: 0.8568\n",
      "Precision for fold 1: 0.8574\n",
      "Recall for fold 1: 0.8568\n",
      "F1 Score for fold 1: 0.8530\n",
      "\n",
      "Training on fold 2...\n",
      "Epoch 1/10\n",
      "4629/4629 [==============================] - 168s 36ms/step - loss: 0.7739 - accuracy: 0.7683\n",
      "Epoch 2/10\n",
      "4629/4629 [==============================] - 198s 43ms/step - loss: 0.7292 - accuracy: 0.7822\n",
      "Epoch 3/10\n",
      "4629/4629 [==============================] - 147s 32ms/step - loss: 0.7026 - accuracy: 0.7925\n",
      "Epoch 4/10\n",
      "4629/4629 [==============================] - 157s 34ms/step - loss: 0.6844 - accuracy: 0.7986\n",
      "Epoch 5/10\n",
      "4629/4629 [==============================] - 160s 35ms/step - loss: 0.6702 - accuracy: 0.8038\n",
      "Epoch 6/10\n",
      "4629/4629 [==============================] - 151s 33ms/step - loss: 0.6585 - accuracy: 0.8087\n",
      "Epoch 7/10\n",
      "4629/4629 [==============================] - 902s 195ms/step - loss: 0.6456 - accuracy: 0.8139\n",
      "Epoch 8/10\n",
      "4629/4629 [==============================] - 162s 35ms/step - loss: 0.6339 - accuracy: 0.8169\n",
      "Epoch 9/10\n",
      "4629/4629 [==============================] - 144s 31ms/step - loss: 0.6254 - accuracy: 0.8203\n",
      "Epoch 10/10\n",
      "4629/4629 [==============================] - 149s 32ms/step - loss: 0.6161 - accuracy: 0.8231\n",
      "Sucess\n",
      "1543/1543 [==============================] - 12s 8ms/step\n",
      "Accuracy for fold 2: 0.8609\n",
      "Precision for fold 2: 0.8607\n",
      "Recall for fold 2: 0.8609\n",
      "F1 Score for fold 2: 0.8583\n",
      "\n",
      "Training on fold 3...\n",
      "Epoch 1/10\n",
      "4629/4629 [==============================] - 152s 33ms/step - loss: 0.7735 - accuracy: 0.7675\n",
      "Epoch 2/10\n",
      "4629/4629 [==============================] - 149s 32ms/step - loss: 0.7303 - accuracy: 0.7833\n",
      "Epoch 3/10\n",
      "4629/4629 [==============================] - 114s 25ms/step - loss: 0.7046 - accuracy: 0.7920\n",
      "Epoch 4/10\n",
      "4629/4629 [==============================] - 127s 27ms/step - loss: 0.6849 - accuracy: 0.7988\n",
      "Epoch 5/10\n",
      "4629/4629 [==============================] - 157s 34ms/step - loss: 0.6686 - accuracy: 0.8040\n",
      "Epoch 6/10\n",
      "4629/4629 [==============================] - 154s 33ms/step - loss: 0.6566 - accuracy: 0.8079\n",
      "Epoch 7/10\n",
      "4629/4629 [==============================] - 270s 58ms/step - loss: 0.6442 - accuracy: 0.8131\n",
      "Epoch 8/10\n",
      "4629/4629 [==============================] - 419s 91ms/step - loss: 0.6340 - accuracy: 0.8177\n",
      "Epoch 9/10\n",
      "4629/4629 [==============================] - 425s 92ms/step - loss: 0.6245 - accuracy: 0.8208\n",
      "Epoch 10/10\n",
      "4629/4629 [==============================] - 419s 90ms/step - loss: 0.6156 - accuracy: 0.8230\n",
      "Sucess\n",
      "1543/1543 [==============================] - 33s 21ms/step\n",
      "Accuracy for fold 3: 0.8569\n",
      "Precision for fold 3: 0.8573\n",
      "Recall for fold 3: 0.8569\n",
      "F1 Score for fold 3: 0.8546\n",
      "\n",
      "\n",
      "Average Accuracy: 0.8582\n",
      "Average Precision: 0.8585\n",
      "Average Recall: 0.8582\n",
      "Average F1 Score: 0.8553\n"
     ]
    }
   ],
   "source": [
    "## HYPER CROSS VALIDATION\n",
    "\n",
    "import numpy as np\n",
    "import tensorflow as tf\n",
    "from sklearn.model_selection import StratifiedKFold\n",
    "from sklearn.metrics import accuracy_score, precision_score, recall_score, f1_score\n",
    "\n",
    "\n",
    "num_folds = 3\n",
    "random_state = 42\n",
    "\n",
    "# Initialize StratifiedKFold\n",
    "stratkf = StratifiedKFold(n_splits=num_folds, shuffle=False, random_state=random_state)\n",
    "\n",
    "# Initialize lists to store metrics for each iteration\n",
    "accuracies, precisions, recalls, f1_scores = [], [], [], []\n",
    "\n",
    "# Loop over folds\n",
    "for fold, (train_indices, test_indices) in enumerate(stratkf.split(X_train_global, np.argmax(Y_train_global, axis=1))):\n",
    "    print(f\"Training on fold {fold + 1}...\")\n",
    "\n",
    "    # Split the data for this fold\n",
    "    X_train, X_test = X[train_indices], X[test_indices]\n",
    "    Y_train, Y_test = Y[train_indices], Y[test_indices]\n",
    "\n",
    "    model = tf.keras.models.load_model(\"data/best_model\")\n",
    "    model.fit(X_train, Y_train, epochs=10, batch_size=32, verbose=True)\n",
    "\n",
    "    # Train the model\n",
    "    # model.fit(X_train, Y_train, epochs=10, batch_size=32, verbose=True)\n",
    "\n",
    "    # Make predictions on the test set\n",
    "    predictions = model.predict(X_test)\n",
    "    predicted_categories = np.argmax(predictions, axis=1)\n",
    "\n",
    "    # Calculate metrics for this iteration\n",
    "    accuracy = accuracy_score(np.argmax(Y_test, axis=1), predicted_categories)\n",
    "    precision = precision_score(np.argmax(Y_test, axis=1), predicted_categories, average='weighted')\n",
    "    recall = recall_score(np.argmax(Y_test, axis=1), predicted_categories, average='weighted')\n",
    "    f1 = f1_score(np.argmax(Y_test, axis=1), predicted_categories, average='weighted')\n",
    "\n",
    "    # Append metrics to the lists\n",
    "    accuracies.append(accuracy)\n",
    "    precisions.append(precision)\n",
    "    recalls.append(recall)\n",
    "    f1_scores.append(f1)\n",
    "\n",
    "    # Display metrics for this iteration\n",
    "    print(f\"Accuracy for fold {fold + 1}: {accuracy:.4f}\")\n",
    "    print(f\"Precision for fold {fold + 1}: {precision:.4f}\")\n",
    "    print(f\"Recall for fold {fold + 1}: {recall:.4f}\")\n",
    "    print(f\"F1 Score for fold {fold + 1}: {f1:.4f}\\n\")\n",
    "\n",
    "# Calculate and output the average metrics\n",
    "average_accuracy = np.mean(accuracies)\n",
    "average_precision = np.mean(precisions)\n",
    "average_recall = np.mean(recalls)\n",
    "average_f1 = np.mean(f1_scores)\n",
    "\n",
    "print(f\"\\nAverage Accuracy: {average_accuracy:.4f}\")\n",
    "print(f\"Average Precision: {average_precision:.4f}\")\n",
    "print(f\"Average Recall: {average_recall:.4f}\")\n",
    "print(f\"Average F1 Score: {average_f1:.4f}\")"
   ]
  },
  {
   "cell_type": "markdown",
   "metadata": {},
   "source": [
    "# Global testing"
   ]
  },
  {
   "cell_type": "code",
   "execution_count": 19,
   "metadata": {},
   "outputs": [
    {
     "name": "stdout",
     "output_type": "stream",
     "text": [
      "Epoch 1/10\n",
      "4166/4166 [==============================] - 141s 33ms/step - loss: 0.7754 - accuracy: 0.7671\n",
      "Epoch 2/10\n",
      "4166/4166 [==============================] - 139s 33ms/step - loss: 0.7302 - accuracy: 0.7815\n",
      "Epoch 3/10\n",
      "4166/4166 [==============================] - 137s 33ms/step - loss: 0.7012 - accuracy: 0.7922\n",
      "Epoch 4/10\n",
      "4166/4166 [==============================] - 141s 34ms/step - loss: 0.6815 - accuracy: 0.7993\n",
      "Epoch 5/10\n",
      "4166/4166 [==============================] - 141s 34ms/step - loss: 0.6655 - accuracy: 0.8054\n",
      "Epoch 6/10\n",
      "4166/4166 [==============================] - 143s 34ms/step - loss: 0.6510 - accuracy: 0.8100\n",
      "Epoch 7/10\n",
      "4166/4166 [==============================] - 148s 36ms/step - loss: 0.6348 - accuracy: 0.8160\n",
      "Epoch 8/10\n",
      "4166/4166 [==============================] - 148s 36ms/step - loss: 0.6245 - accuracy: 0.8189\n",
      "Epoch 9/10\n",
      "4166/4166 [==============================] - 186s 45ms/step - loss: 0.6146 - accuracy: 0.8225\n",
      "Epoch 10/10\n",
      "4166/4166 [==============================] - 161s 39ms/step - loss: 0.6060 - accuracy: 0.8260\n",
      "463/463 [==============================] - 4s 8ms/step\n",
      "Accuracy: 0.8001\n",
      "Precision: 0.8010\n",
      "Recall: 0.8001\n",
      "F1 Score: 0.7947\n",
      "\n"
     ]
    }
   ],
   "source": [
    "model = tf.keras.models.load_model(\"data/best_model\")\n",
    "model.fit(X_train_global, Y_train_global, epochs=10, batch_size=32, verbose=True)\n",
    "# Train the model\n",
    "# model.fit(X_train, Y_train, epochs=10, batch_size=32, verbose=True)\n",
    "\n",
    "# Make predictions on the test set\n",
    "predictions = model.predict(X_test_global)\n",
    "predicted_categories = np.argmax(predictions, axis=1)\n",
    "\n",
    "# Calculate metrics for this iteration\n",
    "accuracy = accuracy_score(np.argmax(Y_test_global, axis=1), predicted_categories)\n",
    "precision = precision_score(np.argmax(Y_test_global, axis=1), predicted_categories, average='weighted')\n",
    "recall = recall_score(np.argmax(Y_test_global, axis=1), predicted_categories, average='weighted')\n",
    "f1 = f1_score(np.argmax(Y_test_global, axis=1), predicted_categories, average='weighted')\n",
    "\n",
    "print(f\"Accuracy: {accuracy:.4f}\")\n",
    "print(f\"Precision: {precision:.4f}\")\n",
    "print(f\"Recall: {recall:.4f}\")\n",
    "print(f\"F1 Score: {f1:.4f}\\n\")"
   ]
  },
  {
   "cell_type": "markdown",
   "metadata": {},
   "source": [
    "# Backup"
   ]
  },
  {
   "cell_type": "code",
   "execution_count": 95,
   "metadata": {},
   "outputs": [
    {
     "name": "stderr",
     "output_type": "stream",
     "text": [
      "/usr/local/lib/python3.11/site-packages/sklearn/model_selection/_split.py:737: UserWarning: The least populated class in y has only 2 members, which is less than n_splits=5.\n",
      "  warnings.warn(\n"
     ]
    },
    {
     "name": "stdout",
     "output_type": "stream",
     "text": [
      "Training on fold 1...\n",
      "Epoch 1/10\n",
      "25/25 [==============================] - 2s 20ms/step - loss: 1.1784 - accuracy: 0.6750\n",
      "Epoch 2/10\n",
      "25/25 [==============================] - 0s 18ms/step - loss: 0.5984 - accuracy: 0.8425\n",
      "Epoch 3/10\n",
      "25/25 [==============================] - 0s 19ms/step - loss: 0.4341 - accuracy: 0.8712\n",
      "Epoch 4/10\n",
      "25/25 [==============================] - 0s 19ms/step - loss: 0.3204 - accuracy: 0.9187\n",
      "Epoch 5/10\n",
      "25/25 [==============================] - 0s 19ms/step - loss: 0.2659 - accuracy: 0.9262\n",
      "Epoch 6/10\n",
      "25/25 [==============================] - 0s 19ms/step - loss: 0.1913 - accuracy: 0.9500\n",
      "Epoch 7/10\n",
      "25/25 [==============================] - 1s 21ms/step - loss: 0.1294 - accuracy: 0.9675\n",
      "Epoch 8/10\n",
      "25/25 [==============================] - 1s 22ms/step - loss: 0.1187 - accuracy: 0.9712\n",
      "Epoch 9/10\n",
      "25/25 [==============================] - 0s 19ms/step - loss: 0.1136 - accuracy: 0.9762\n",
      "Epoch 10/10\n",
      "25/25 [==============================] - 0s 19ms/step - loss: 0.0786 - accuracy: 0.9887\n",
      "7/7 [==============================] - 0s 5ms/step\n",
      "Accuracy for fold 1: 0.8700\n",
      "Precision for fold 1: 0.8721\n",
      "Recall for fold 1: 0.8700\n",
      "F1 Score for fold 1: 0.8571\n",
      "\n",
      "Training on fold 2...\n",
      "Epoch 1/10\n"
     ]
    },
    {
     "name": "stderr",
     "output_type": "stream",
     "text": [
      "/usr/local/lib/python3.11/site-packages/sklearn/metrics/_classification.py:1471: UndefinedMetricWarning: Precision is ill-defined and being set to 0.0 in labels with no predicted samples. Use `zero_division` parameter to control this behavior.\n",
      "  _warn_prf(average, modifier, msg_start, len(result))\n"
     ]
    },
    {
     "name": "stdout",
     "output_type": "stream",
     "text": [
      "25/25 [==============================] - 2s 21ms/step - loss: 1.1781 - accuracy: 0.6737\n",
      "Epoch 2/10\n",
      "25/25 [==============================] - 1s 25ms/step - loss: 0.6211 - accuracy: 0.8300\n",
      "Epoch 3/10\n",
      "25/25 [==============================] - 1s 24ms/step - loss: 0.4279 - accuracy: 0.8788\n",
      "Epoch 4/10\n",
      "25/25 [==============================] - 0s 19ms/step - loss: 0.3411 - accuracy: 0.9038\n",
      "Epoch 5/10\n",
      "25/25 [==============================] - 0s 19ms/step - loss: 0.2299 - accuracy: 0.9350\n",
      "Epoch 6/10\n",
      "25/25 [==============================] - 0s 19ms/step - loss: 0.1917 - accuracy: 0.9525\n",
      "Epoch 7/10\n",
      "25/25 [==============================] - 0s 19ms/step - loss: 0.1554 - accuracy: 0.9650\n",
      "Epoch 8/10\n",
      "25/25 [==============================] - 0s 19ms/step - loss: 0.1536 - accuracy: 0.9588\n",
      "Epoch 9/10\n",
      "25/25 [==============================] - 0s 19ms/step - loss: 0.1001 - accuracy: 0.9750\n",
      "Epoch 10/10\n",
      "25/25 [==============================] - 0s 19ms/step - loss: 0.0954 - accuracy: 0.9762\n",
      "7/7 [==============================] - 0s 4ms/step\n",
      "Accuracy for fold 2: 0.9150\n",
      "Precision for fold 2: 0.9154\n",
      "Recall for fold 2: 0.9150\n",
      "F1 Score for fold 2: 0.9057\n",
      "\n",
      "Training on fold 3...\n",
      "Epoch 1/10\n"
     ]
    },
    {
     "name": "stderr",
     "output_type": "stream",
     "text": [
      "/usr/local/lib/python3.11/site-packages/sklearn/metrics/_classification.py:1471: UndefinedMetricWarning: Precision is ill-defined and being set to 0.0 in labels with no predicted samples. Use `zero_division` parameter to control this behavior.\n",
      "  _warn_prf(average, modifier, msg_start, len(result))\n"
     ]
    },
    {
     "name": "stdout",
     "output_type": "stream",
     "text": [
      "25/25 [==============================] - 2s 18ms/step - loss: 1.2296 - accuracy: 0.6562\n",
      "Epoch 2/10\n",
      "25/25 [==============================] - 1s 21ms/step - loss: 0.6506 - accuracy: 0.8138\n",
      "Epoch 3/10\n",
      "25/25 [==============================] - 1s 24ms/step - loss: 0.4768 - accuracy: 0.8725\n",
      "Epoch 4/10\n",
      "25/25 [==============================] - 1s 23ms/step - loss: 0.3465 - accuracy: 0.9112\n",
      "Epoch 5/10\n",
      "25/25 [==============================] - 1s 27ms/step - loss: 0.2956 - accuracy: 0.9287\n",
      "Epoch 6/10\n",
      "25/25 [==============================] - 1s 27ms/step - loss: 0.2151 - accuracy: 0.9475\n",
      "Epoch 7/10\n",
      "25/25 [==============================] - 1s 25ms/step - loss: 0.1606 - accuracy: 0.9663\n",
      "Epoch 8/10\n",
      "25/25 [==============================] - 0s 19ms/step - loss: 0.1113 - accuracy: 0.9737\n",
      "Epoch 9/10\n",
      "25/25 [==============================] - 1s 21ms/step - loss: 0.1005 - accuracy: 0.9775\n",
      "Epoch 10/10\n",
      "25/25 [==============================] - 0s 18ms/step - loss: 0.0812 - accuracy: 0.9850\n",
      "7/7 [==============================] - 0s 4ms/step\n",
      "Accuracy for fold 3: 0.9000\n",
      "Precision for fold 3: 0.8947\n",
      "Recall for fold 3: 0.9000\n",
      "F1 Score for fold 3: 0.8957\n",
      "\n",
      "Training on fold 4...\n",
      "Epoch 1/10\n"
     ]
    },
    {
     "name": "stderr",
     "output_type": "stream",
     "text": [
      "/usr/local/lib/python3.11/site-packages/sklearn/metrics/_classification.py:1471: UndefinedMetricWarning: Precision is ill-defined and being set to 0.0 in labels with no predicted samples. Use `zero_division` parameter to control this behavior.\n",
      "  _warn_prf(average, modifier, msg_start, len(result))\n"
     ]
    },
    {
     "name": "stdout",
     "output_type": "stream",
     "text": [
      "25/25 [==============================] - 2s 23ms/step - loss: 1.2117 - accuracy: 0.6513\n",
      "Epoch 2/10\n",
      "25/25 [==============================] - 0s 17ms/step - loss: 0.6579 - accuracy: 0.8225\n",
      "Epoch 3/10\n",
      "25/25 [==============================] - 0s 15ms/step - loss: 0.4806 - accuracy: 0.8725\n",
      "Epoch 4/10\n",
      "25/25 [==============================] - 0s 15ms/step - loss: 0.3543 - accuracy: 0.9162\n",
      "Epoch 5/10\n",
      "25/25 [==============================] - 0s 17ms/step - loss: 0.2892 - accuracy: 0.9312\n",
      "Epoch 6/10\n",
      "25/25 [==============================] - 1s 23ms/step - loss: 0.2085 - accuracy: 0.9350\n",
      "Epoch 7/10\n",
      "25/25 [==============================] - 0s 15ms/step - loss: 0.1961 - accuracy: 0.9500\n",
      "Epoch 8/10\n",
      "25/25 [==============================] - 0s 15ms/step - loss: 0.1195 - accuracy: 0.9725\n",
      "Epoch 9/10\n",
      "25/25 [==============================] - 0s 16ms/step - loss: 0.0934 - accuracy: 0.9762\n",
      "Epoch 10/10\n",
      "25/25 [==============================] - 0s 16ms/step - loss: 0.0753 - accuracy: 0.9875\n",
      "7/7 [==============================] - 0s 3ms/step\n",
      "Accuracy for fold 4: 0.8950\n",
      "Precision for fold 4: 0.8965\n",
      "Recall for fold 4: 0.8950\n",
      "F1 Score for fold 4: 0.8891\n",
      "\n",
      "Training on fold 5...\n",
      "Epoch 1/10\n"
     ]
    },
    {
     "name": "stderr",
     "output_type": "stream",
     "text": [
      "/usr/local/lib/python3.11/site-packages/sklearn/metrics/_classification.py:1471: UndefinedMetricWarning: Precision is ill-defined and being set to 0.0 in labels with no predicted samples. Use `zero_division` parameter to control this behavior.\n",
      "  _warn_prf(average, modifier, msg_start, len(result))\n"
     ]
    },
    {
     "name": "stdout",
     "output_type": "stream",
     "text": [
      "25/25 [==============================] - 1s 15ms/step - loss: 1.1775 - accuracy: 0.6550\n",
      "Epoch 2/10\n",
      "25/25 [==============================] - 0s 15ms/step - loss: 0.5983 - accuracy: 0.8450\n",
      "Epoch 3/10\n",
      "25/25 [==============================] - 0s 15ms/step - loss: 0.4333 - accuracy: 0.8838\n",
      "Epoch 4/10\n",
      "25/25 [==============================] - 0s 16ms/step - loss: 0.2833 - accuracy: 0.9287\n",
      "Epoch 5/10\n",
      "25/25 [==============================] - 0s 16ms/step - loss: 0.2256 - accuracy: 0.9350\n",
      "Epoch 6/10\n",
      "25/25 [==============================] - 0s 14ms/step - loss: 0.1854 - accuracy: 0.9538\n",
      "Epoch 7/10\n",
      "25/25 [==============================] - 0s 15ms/step - loss: 0.1245 - accuracy: 0.9663\n",
      "Epoch 8/10\n",
      "25/25 [==============================] - 0s 15ms/step - loss: 0.0896 - accuracy: 0.9775\n",
      "Epoch 9/10\n",
      "25/25 [==============================] - 0s 15ms/step - loss: 0.0752 - accuracy: 0.9850\n",
      "Epoch 10/10\n",
      "25/25 [==============================] - 0s 14ms/step - loss: 0.0579 - accuracy: 0.9862\n",
      "7/7 [==============================] - 0s 3ms/step\n",
      "Accuracy for fold 5: 0.8800\n",
      "Precision for fold 5: 0.8596\n",
      "Recall for fold 5: 0.8800\n",
      "F1 Score for fold 5: 0.8628\n",
      "\n",
      "\n",
      "Average Accuracy: 0.8920\n",
      "Average Precision: 0.8877\n",
      "Average Recall: 0.8920\n",
      "Average F1 Score: 0.8821\n"
     ]
    },
    {
     "name": "stderr",
     "output_type": "stream",
     "text": [
      "/usr/local/lib/python3.11/site-packages/sklearn/metrics/_classification.py:1471: UndefinedMetricWarning: Precision is ill-defined and being set to 0.0 in labels with no predicted samples. Use `zero_division` parameter to control this behavior.\n",
      "  _warn_prf(average, modifier, msg_start, len(result))\n"
     ]
    }
   ],
   "source": [
    "## BACKUP CROSS VALIDATION\n",
    "\n",
    "import numpy as np\n",
    "import tensorflow as tf\n",
    "from sklearn.model_selection import StratifiedKFold\n",
    "from sklearn.metrics import accuracy_score, precision_score, recall_score, f1_score\n",
    "from tensorflow.keras import regularizers\n",
    "\n",
    "# Assuming 'X' is your feature matrix and 'Y' is the target variable\n",
    "\n",
    "# Define hyperparameters\n",
    "num_folds = 5\n",
    "epochs = 10\n",
    "batch_size = 32\n",
    "learning_rate = 0.001\n",
    "weight_decay = 1e-5\n",
    "random_state = 42\n",
    "\n",
    "# Initialize StratifiedKFold\n",
    "stratkf = StratifiedKFold(n_splits=num_folds, shuffle=True, random_state=random_state)\n",
    "\n",
    "# Initialize lists to store metrics for each iteration\n",
    "accuracies, precisions, recalls, f1_scores = [], [], [], []\n",
    "\n",
    "# Define your TensorFlow model with hyperparameters\n",
    "def create_model(input_dim, output_dim, learning_rate, weight_decay):\n",
    "    model = tf.keras.Sequential([\n",
    "        tf.keras.layers.Dense(512, activation='relu', kernel_regularizer=regularizers.l2(weight_decay)),\n",
    "        tf.keras.layers.Dense(128, activation='relu', kernel_regularizer=regularizers.l2(weight_decay)),\n",
    "        tf.keras.layers.Dropout(0.5),\n",
    "        tf.keras.layers.Dense(output_dim, activation='softmax')\n",
    "    ])\n",
    "    optimizer = tf.keras.optimizers.Adam(learning_rate=learning_rate)\n",
    "    model.compile(optimizer=optimizer, loss='categorical_crossentropy', metrics=['accuracy'])\n",
    "    return model\n",
    "\n",
    "# Loop over folds\n",
    "for fold, (train_indices, test_indices) in enumerate(stratkf.split(X, np.argmax(Y, axis=1))):\n",
    "    print(f\"Training on fold {fold + 1}...\")\n",
    "\n",
    "    # Split the data for this fold\n",
    "    X_train, X_test = X[train_indices], X[test_indices]\n",
    "    Y_train, Y_test = Y[train_indices], Y[test_indices]\n",
    "\n",
    "    # Create and compile the model\n",
    "    model = create_model(X_train.shape[1], Y_train.shape[1], learning_rate, weight_decay)\n",
    "\n",
    "    # Train the model\n",
    "    model.fit(X_train, Y_train, epochs=epochs, batch_size=batch_size, verbose=True)\n",
    "\n",
    "    # Make predictions on the test set\n",
    "    predictions = model.predict(X_test)\n",
    "    predicted_categories = np.argmax(predictions, axis=1)\n",
    "\n",
    "    # Calculate metrics for this iteration\n",
    "    accuracy = accuracy_score(np.argmax(Y_test, axis=1), predicted_categories)\n",
    "    precision = precision_score(np.argmax(Y_test, axis=1), predicted_categories, average='weighted')\n",
    "    recall = recall_score(np.argmax(Y_test, axis=1), predicted_categories, average='weighted')\n",
    "    f1 = f1_score(np.argmax(Y_test, axis=1), predicted_categories, average='weighted')\n",
    "\n",
    "    # Append metrics to the lists\n",
    "    accuracies.append(accuracy)\n",
    "    precisions.append(precision)\n",
    "    recalls.append(recall)\n",
    "    f1_scores.append(f1)\n",
    "\n",
    "    # Display metrics for this iteration\n",
    "    print(f\"Accuracy for fold {fold + 1}: {accuracy:.4f}\")\n",
    "    print(f\"Precision for fold {fold + 1}: {precision:.4f}\")\n",
    "    print(f\"Recall for fold {fold + 1}: {recall:.4f}\")\n",
    "    print(f\"F1 Score for fold {fold + 1}: {f1:.4f}\\n\")\n",
    "\n",
    "# Calculate and output the average metrics\n",
    "average_accuracy = np.mean(accuracies)\n",
    "average_precision = np.mean(precisions)\n",
    "average_recall = np.mean(recalls)\n",
    "average_f1 = np.mean(f1_scores)\n",
    "\n",
    "print(f\"\\nAverage Accuracy: {average_accuracy:.4f}\")\n",
    "print(f\"Average Precision: {average_precision:.4f}\")\n",
    "print(f\"Average Recall: {average_recall:.4f}\")\n",
    "print(f\"Average F1 Score: {average_f1:.4f}\")"
   ]
  }
 ],
 "metadata": {
  "kernelspec": {
   "display_name": "Python 3",
   "language": "python",
   "name": "python3"
  },
  "language_info": {
   "codemirror_mode": {
    "name": "ipython",
    "version": 3
   },
   "file_extension": ".py",
   "mimetype": "text/x-python",
   "name": "python",
   "nbconvert_exporter": "python",
   "pygments_lexer": "ipython3",
   "version": "3.11.6"
  }
 },
 "nbformat": 4,
 "nbformat_minor": 2
}
