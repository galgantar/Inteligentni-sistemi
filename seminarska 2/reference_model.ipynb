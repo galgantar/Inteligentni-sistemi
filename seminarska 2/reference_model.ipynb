{
 "cells": [
  {
   "cell_type": "code",
   "execution_count": 27,
   "metadata": {},
   "outputs": [],
   "source": [
    "import pandas as pd\n",
    "import numpy as np\n",
    "from sklearn.model_selection import train_test_split\n",
    "from transformers import BertTokenizer, TFBertModel\n",
    "import tensorflow as tf\n",
    "import nltk\n",
    "from nltk.stem import PorterStemmer\n",
    "from nltk.corpus import stopwords"
   ]
  },
  {
   "cell_type": "markdown",
   "metadata": {},
   "source": [
    "BERT embeddings, stemming, stop-words removal"
   ]
  },
  {
   "cell_type": "code",
   "execution_count": 30,
   "metadata": {},
   "outputs": [
    {
     "name": "stderr",
     "output_type": "stream",
     "text": [
      "[nltk_data] Downloading package punkt to /Users/galgantar/nltk_data...\n",
      "[nltk_data]   Package punkt is already up-to-date!\n",
      "[nltk_data] Downloading package stopwords to\n",
      "[nltk_data]     /Users/galgantar/nltk_data...\n",
      "[nltk_data]   Package stopwords is already up-to-date!\n",
      "Some weights of the PyTorch model were not used when initializing the TF 2.0 model TFBertModel: ['cls.seq_relationship.weight', 'cls.seq_relationship.bias', 'cls.predictions.transform.LayerNorm.weight', 'cls.predictions.transform.dense.bias', 'cls.predictions.transform.dense.weight', 'cls.predictions.transform.LayerNorm.bias', 'cls.predictions.bias']\n",
      "- This IS expected if you are initializing TFBertModel from a PyTorch model trained on another task or with another architecture (e.g. initializing a TFBertForSequenceClassification model from a BertForPreTraining model).\n",
      "- This IS NOT expected if you are initializing TFBertModel from a PyTorch model that you expect to be exactly identical (e.g. initializing a TFBertForSequenceClassification model from a BertForSequenceClassification model).\n",
      "All the weights of TFBertModel were initialized from the PyTorch model.\n",
      "If your task is similar to the task the model of the checkpoint was trained on, you can already use TFBertModel for predictions without further training.\n"
     ]
    }
   ],
   "source": [
    "# Download necessary NLTK data\n",
    "nltk.download('punkt')\n",
    "nltk.download('stopwords')\n",
    "\n",
    "# Initialize NLTK's PorterStemmer and stopwords\n",
    "stemmer = PorterStemmer()\n",
    "stop_words = set(stopwords.words('english'))\n",
    "\n",
    "def preprocess_text(text):\n",
    "    words = nltk.word_tokenize(text)\n",
    "    words = [stemmer.stem(w) for w in words if w.lower() not in stop_words]\n",
    "    return ' '.join(words)\n",
    "\n",
    "# Load dataset\n",
    "df = pd.read_json('smaller_dataset.json')\n",
    "df = df.dropna(subset=['headline'])\n",
    "df = df.dropna(subset=['short_description'])\n",
    "\n",
    "\n",
    "# Preprocess the text data\n",
    "df['preprocessed_headline'] = df['headline'].apply(preprocess_text)\n",
    "df['preprocessed_description'] = df['short_description'].apply(preprocess_text)\n",
    "\n",
    "# BERT Embedding\n",
    "tokenizer = BertTokenizer.from_pretrained('bert-base-uncased')\n",
    "bert_model = TFBertModel.from_pretrained('bert-base-uncased')\n",
    "\n",
    "def get_bert_embeddings(text):\n",
    "    inputs = tokenizer(text, return_tensors=\"tf\", max_length=512, truncation=True)\n",
    "    outputs = bert_model(inputs)\n",
    "    return outputs.last_hidden_state[:, 0, :].numpy()\n",
    "\n",
    "# Apply BERT embeddings\n",
    "df['headline_embeddings'] = df['preprocessed_headline'].apply(get_bert_embeddings)\n",
    "df['description_embeddings'] = df['preprocessed_description'].apply(get_bert_embeddings)\n",
    "\n",
    "# Combine the embeddings\n",
    "df['combined_embeddings'] = df.apply(lambda x: np.concatenate((x['headline_embeddings'], x['description_embeddings'])), axis=1)"
   ]
  },
  {
   "cell_type": "markdown",
   "metadata": {},
   "source": [
    "Predictions (deep learning model)"
   ]
  },
  {
   "cell_type": "code",
   "execution_count": 31,
   "metadata": {},
   "outputs": [
    {
     "name": "stdout",
     "output_type": "stream",
     "text": [
      "Epoch 1/10\n",
      "5/5 [==============================] - 1s 6ms/step - loss: 1.9368 - accuracy: 0.3813\n",
      "Epoch 2/10\n",
      "5/5 [==============================] - 0s 13ms/step - loss: 1.4360 - accuracy: 0.4676\n",
      "Epoch 3/10\n",
      "5/5 [==============================] - 0s 9ms/step - loss: 1.1991 - accuracy: 0.5971\n",
      "Epoch 4/10\n",
      "5/5 [==============================] - 0s 11ms/step - loss: 0.9282 - accuracy: 0.7050\n",
      "Epoch 5/10\n",
      "5/5 [==============================] - 0s 10ms/step - loss: 0.8752 - accuracy: 0.6978\n",
      "Epoch 6/10\n",
      "5/5 [==============================] - 0s 11ms/step - loss: 0.7069 - accuracy: 0.8058\n",
      "Epoch 7/10\n",
      "5/5 [==============================] - 0s 15ms/step - loss: 0.5561 - accuracy: 0.8129\n",
      "Epoch 8/10\n",
      "5/5 [==============================] - 0s 11ms/step - loss: 0.5648 - accuracy: 0.8417\n",
      "Epoch 9/10\n",
      "5/5 [==============================] - 0s 10ms/step - loss: 0.5109 - accuracy: 0.8201\n",
      "Epoch 10/10\n",
      "5/5 [==============================] - 0s 16ms/step - loss: 0.4374 - accuracy: 0.8489\n",
      "2/2 [==============================] - 0s 3ms/step\n",
      "Correct: WELLNESS, Prediction: WELLNESS\n",
      "Correct: WELLNESS, Prediction: WELLNESS\n",
      "Correct: WELLNESS, Prediction: WELLNESS\n",
      "Correct: WELLNESS, Prediction: WELLNESS\n",
      "Correct: SPORTS, Prediction: SPORTS\n",
      "Correct: WELLNESS, Prediction: WELLNESS\n",
      "Correct: WELLNESS, Prediction: WELLNESS\n",
      "Correct: SPORTS, Prediction: SPORTS\n",
      "Correct: SPORTS, Prediction: WELLNESS\n",
      "Correct: WELLNESS, Prediction: WELLNESS\n",
      "Correct: WELLNESS, Prediction: WELLNESS\n",
      "Correct: SPORTS, Prediction: SPORTS\n",
      "Correct: SPORTS, Prediction: SPORTS\n",
      "Correct: WELLNESS, Prediction: WELLNESS\n",
      "Correct: SPORTS, Prediction: WELLNESS\n",
      "Correct: SPORTS, Prediction: SPORTS\n",
      "Correct: SPORTS, Prediction: SPORTS\n",
      "Correct: SPORTS, Prediction: SPORTS\n",
      "Correct: WELLNESS, Prediction: WELLNESS\n",
      "Correct: WELLNESS, Prediction: WELLNESS\n",
      "Correct: SPORTS, Prediction: SPORTS\n",
      "Correct: STYLE & BEAUTY, Prediction: WELLNESS\n",
      "Correct: SPORTS, Prediction: SPORTS\n",
      "Correct: SPORTS, Prediction: SPORTS\n",
      "Correct: POLITICS, Prediction: WELLNESS\n",
      "Correct: SPORTS, Prediction: SPORTS\n",
      "Correct: STYLE & BEAUTY, Prediction: SPORTS\n",
      "Correct: SPORTS, Prediction: SPORTS\n",
      "Correct: SPORTS, Prediction: SPORTS\n",
      "Correct: WELLNESS, Prediction: WELLNESS\n",
      "Correct: SPORTS, Prediction: SPORTS\n",
      "Correct: WELLNESS, Prediction: WELLNESS\n",
      "Correct: WELLNESS, Prediction: WELLNESS\n",
      "Correct: SPORTS, Prediction: WELLNESS\n",
      "Correct: SPORTS, Prediction: SPORTS\n"
     ]
    }
   ],
   "source": [
    "# Define X and Y\n",
    "X = np.array(df['combined_embeddings'].tolist())\n",
    "X = np.array(tf.reshape(X, [174, 2*768]))\n",
    "Y = pd.get_dummies(df['category']).values  # One-hot encoding of categories\n",
    "\n",
    "# Split the dataset\n",
    "X_train, X_test, Y_train, Y_test = train_test_split(X, Y, test_size=0.2, random_state=42)\n",
    "\n",
    "# TensorFlow model\n",
    "model = tf.keras.Sequential([\n",
    "    tf.keras.layers.Dense(128, activation='relu'),\n",
    "    tf.keras.layers.Dropout(0.5),\n",
    "    tf.keras.layers.Dense(Y.shape[1], activation='softmax')  # Prediction head\n",
    "])\n",
    "\n",
    "model.compile(optimizer='adam', loss='categorical_crossentropy', metrics=['accuracy'])\n",
    "\n",
    "# Train the model\n",
    "model.fit(X_train, Y_train, epochs=10, batch_size=32)\n",
    "\n",
    "# Make predictions\n",
    "predictions = model.predict(X_test)\n",
    "predicted_categories = np.argmax(predictions, axis=1)\n",
    "\n",
    "# Display predictions\n",
    "for pred, y in zip(predicted_categories, np.argmax(Y_test, axis=1)):\n",
    "    print(f\"Correct: {df['category'].unique()[y]}, Prediction: {df['category'].unique()[pred]}\")\n"
   ]
  }
 ],
 "metadata": {
  "kernelspec": {
   "display_name": "Python 3",
   "language": "python",
   "name": "python3"
  },
  "language_info": {
   "codemirror_mode": {
    "name": "ipython",
    "version": 3
   },
   "file_extension": ".py",
   "mimetype": "text/x-python",
   "name": "python",
   "nbconvert_exporter": "python",
   "pygments_lexer": "ipython3",
   "version": "3.11.6"
  }
 },
 "nbformat": 4,
 "nbformat_minor": 2
}
