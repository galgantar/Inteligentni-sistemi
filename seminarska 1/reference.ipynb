{
 "cells": [
  {
   "cell_type": "code",
   "execution_count": 101,
   "metadata": {},
   "outputs": [],
   "source": [
    "import numpy as np\n",
    "import pygad"
   ]
  },
  {
   "cell_type": "code",
   "execution_count": 104,
   "metadata": {},
   "outputs": [
    {
     "data": {
      "text/plain": [
       "(array([36.,  3.]), -17.87320069141098)"
      ]
     },
     "execution_count": 104,
     "metadata": {},
     "output_type": "execute_result"
    }
   ],
   "source": [
    "substrate = np.array([1.73, 2.06, 2.20, 4.28, 4.44, 5.53, 6.32, 6.68, 7.28, 7.90, 8.80, 9.14, 9.18, 9.40, 9.88])\n",
    "velocity = np.array([12.48, 13.97, 14.59, 21.25, 21.66, 21.97, 25.36, 22.93, 24.81, 25.63, 24.68, 29.04, 28.08, 27.32, 27.77])\n",
    "\n",
    "def f(substrate, solution):\n",
    "  return (solution[0] * substrate) / (solution[1] + substrate)\n",
    "\n",
    "def fitness_func(ga_instance, solution, solution_idx):\n",
    "  pred = f(substrate, solution)\n",
    "  err = (velocity - pred) ** 2\n",
    "  return -np.sum(err)\n",
    "\n",
    "\n",
    "initial_population = np.array([np.array([20, 1]), np.array([300, 100]), np.array([50, 5])])\n",
    "\n",
    "\n",
    "def crossover_func(parents, offspring_size, ga_instance):\n",
    "  offspring = []\n",
    "\n",
    "  # while len(offspring) != offspring_size[0]:\n",
    "  #    split_point = np.random.randint(0, 1)\n",
    "  #    offspring.append(np.array([parents[0, split_point], parents[1, 1-split_point]]))\n",
    "  \n",
    "  offspring.append(np.array([parents[0][0], parents[1][1]]))\n",
    "  offspring.append(np.array([parents[1][0], parents[0][1]]))\n",
    "\n",
    "  return np.array(offspring)\n",
    "\n",
    "\n",
    "def mutation_func(offspring, ga_instance):\n",
    "    for chromosome_idx in range(offspring.shape[0]):\n",
    "       offspring[chromosome_idx, 0] += np.random.randint(-5, 5)\n",
    "       offspring[chromosome_idx, 1] += np.random.randint(-5, 5)\n",
    "    return offspring\n",
    "\n",
    "\n",
    "ga_instance = pygad.GA(num_generations=100,\n",
    "                       num_parents_mating=2,\n",
    "                       initial_population=initial_population,\n",
    "                       fitness_func=fitness_func,\n",
    "                       crossover_type=crossover_func,\n",
    "                       mutation_type=mutation_func,\n",
    "                       )\n",
    "\n",
    "ga_instance.run()\n",
    "\n",
    "solution, solution_fitness, solution_idx = ga_instance.best_solution()\n",
    "\n",
    "solution, solution_fitness"
   ]
  }
 ],
 "metadata": {
  "kernelspec": {
   "display_name": "Python 3",
   "language": "python",
   "name": "python3"
  },
  "language_info": {
   "codemirror_mode": {
    "name": "ipython",
    "version": 3
   },
   "file_extension": ".py",
   "mimetype": "text/x-python",
   "name": "python",
   "nbconvert_exporter": "python",
   "pygments_lexer": "ipython3",
   "version": "3.11.6"
  }
 },
 "nbformat": 4,
 "nbformat_minor": 2
}
