{
 "cells": [
  {
   "cell_type": "code",
   "execution_count": 4,
   "metadata": {},
   "outputs": [],
   "source": [
    "import numpy as np\n",
    "import pygad\n",
    "import tree_representation\n",
    "import csv"
   ]
  },
  {
   "cell_type": "code",
   "execution_count": 9,
   "metadata": {},
   "outputs": [
    {
     "name": "stderr",
     "output_type": "stream",
     "text": [
      "A 2D list is expected to the initail_population parameter but a (1-D) list found.\n",
      "Traceback (most recent call last):\n",
      "  File \"/usr/local/lib/python3.11/site-packages/pygad/pygad.py\", line 448, in __init__\n",
      "    raise ValueError(f\"A 2D list is expected to the initail_population parameter but a ({numpy.array(initial_population).ndim}-D) list found.\")\n",
      "ValueError: A 2D list is expected to the initail_population parameter but a (1-D) list found.\n"
     ]
    },
    {
     "ename": "AttributeError",
     "evalue": "'tuple' object has no attribute 'tb_frame'",
     "output_type": "error",
     "traceback": [
      "\u001b[0;31m---------------------------------------------------------------------------\u001b[0m",
      "\u001b[0;31mValueError\u001b[0m                                Traceback (most recent call last)",
      "File \u001b[0;32m/usr/local/lib/python3.11/site-packages/pygad/pygad.py:448\u001b[0m, in \u001b[0;36mGA.__init__\u001b[0;34m(self, num_generations, num_parents_mating, fitness_func, fitness_batch_size, initial_population, sol_per_pop, num_genes, init_range_low, init_range_high, gene_type, parent_selection_type, keep_parents, keep_elitism, K_tournament, crossover_type, crossover_probability, mutation_type, mutation_probability, mutation_by_replacement, mutation_percent_genes, mutation_num_genes, random_mutation_min_val, random_mutation_max_val, gene_space, allow_duplicate_genes, on_start, on_fitness, on_parents, on_crossover, on_mutation, on_generation, on_stop, delay_after_gen, save_best_solutions, save_solutions, suppress_warnings, stop_criteria, parallel_processing, random_seed, logger)\u001b[0m\n\u001b[1;32m    447\u001b[0m     \u001b[39mself\u001b[39m\u001b[39m.\u001b[39mvalid_parameters \u001b[39m=\u001b[39m \u001b[39mFalse\u001b[39;00m\n\u001b[0;32m--> 448\u001b[0m     \u001b[39mraise\u001b[39;00m \u001b[39mValueError\u001b[39;00m(\u001b[39mf\u001b[39m\u001b[39m\"\u001b[39m\u001b[39mA 2D list is expected to the initail_population parameter but a (\u001b[39m\u001b[39m{\u001b[39;00mnumpy\u001b[39m.\u001b[39marray(initial_population)\u001b[39m.\u001b[39mndim\u001b[39m}\u001b[39;00m\u001b[39m-D) list found.\u001b[39m\u001b[39m\"\u001b[39m)\n\u001b[1;32m    449\u001b[0m \u001b[39melse\u001b[39;00m:\n\u001b[1;32m    450\u001b[0m     \u001b[39m# Validate the type of each value in the 'initial_population' parameter.\u001b[39;00m\n",
      "\u001b[0;31mValueError\u001b[0m: A 2D list is expected to the initail_population parameter but a (1-D) list found.",
      "\nDuring handling of the above exception, another exception occurred:\n",
      "\u001b[0;31mSystemExit\u001b[0m                                Traceback (most recent call last)",
      "    \u001b[0;31m[... skipping hidden 1 frame]\u001b[0m\n",
      "\u001b[1;32m/Users/galgantar/Documents/Code/Inteligentni-sistemi/seminarska 1/training.ipynb Cell 2\u001b[0m line \u001b[0;36m5\n\u001b[1;32m     <a href='vscode-notebook-cell:/Users/galgantar/Documents/Code/Inteligentni-sistemi/seminarska%201/training.ipynb#W1sZmlsZQ%3D%3D?line=51'>52</a>\u001b[0m     \u001b[39mreturn\u001b[39;00m offspring\n\u001b[0;32m---> <a href='vscode-notebook-cell:/Users/galgantar/Documents/Code/Inteligentni-sistemi/seminarska%201/training.ipynb#W1sZmlsZQ%3D%3D?line=54'>55</a>\u001b[0m ga_instance \u001b[39m=\u001b[39m pygad\u001b[39m.\u001b[39;49mGA(num_generations\u001b[39m=\u001b[39;49m\u001b[39m100\u001b[39;49m,\n\u001b[1;32m     <a href='vscode-notebook-cell:/Users/galgantar/Documents/Code/Inteligentni-sistemi/seminarska%201/training.ipynb#W1sZmlsZQ%3D%3D?line=55'>56</a>\u001b[0m                        num_parents_mating\u001b[39m=\u001b[39;49m\u001b[39m2\u001b[39;49m,\n\u001b[1;32m     <a href='vscode-notebook-cell:/Users/galgantar/Documents/Code/Inteligentni-sistemi/seminarska%201/training.ipynb#W1sZmlsZQ%3D%3D?line=56'>57</a>\u001b[0m                        initial_population\u001b[39m=\u001b[39;49minitial_population,\n\u001b[1;32m     <a href='vscode-notebook-cell:/Users/galgantar/Documents/Code/Inteligentni-sistemi/seminarska%201/training.ipynb#W1sZmlsZQ%3D%3D?line=57'>58</a>\u001b[0m                        fitness_func\u001b[39m=\u001b[39;49mfitness_func,\n\u001b[1;32m     <a href='vscode-notebook-cell:/Users/galgantar/Documents/Code/Inteligentni-sistemi/seminarska%201/training.ipynb#W1sZmlsZQ%3D%3D?line=58'>59</a>\u001b[0m                        crossover_type\u001b[39m=\u001b[39;49mcrossover_func,\n\u001b[1;32m     <a href='vscode-notebook-cell:/Users/galgantar/Documents/Code/Inteligentni-sistemi/seminarska%201/training.ipynb#W1sZmlsZQ%3D%3D?line=59'>60</a>\u001b[0m                        mutation_type\u001b[39m=\u001b[39;49mmutation_func,\n\u001b[1;32m     <a href='vscode-notebook-cell:/Users/galgantar/Documents/Code/Inteligentni-sistemi/seminarska%201/training.ipynb#W1sZmlsZQ%3D%3D?line=60'>61</a>\u001b[0m                        )\n\u001b[1;32m     <a href='vscode-notebook-cell:/Users/galgantar/Documents/Code/Inteligentni-sistemi/seminarska%201/training.ipynb#W1sZmlsZQ%3D%3D?line=62'>63</a>\u001b[0m ga_instance\u001b[39m.\u001b[39mrun()\n",
      "File \u001b[0;32m/usr/local/lib/python3.11/site-packages/pygad/pygad.py:1316\u001b[0m, in \u001b[0;36mGA.__init__\u001b[0;34m(self, num_generations, num_parents_mating, fitness_func, fitness_batch_size, initial_population, sol_per_pop, num_genes, init_range_low, init_range_high, gene_type, parent_selection_type, keep_parents, keep_elitism, K_tournament, crossover_type, crossover_probability, mutation_type, mutation_probability, mutation_by_replacement, mutation_percent_genes, mutation_num_genes, random_mutation_min_val, random_mutation_max_val, gene_space, allow_duplicate_genes, on_start, on_fitness, on_parents, on_crossover, on_mutation, on_generation, on_stop, delay_after_gen, save_best_solutions, save_solutions, suppress_warnings, stop_criteria, parallel_processing, random_seed, logger)\u001b[0m\n\u001b[1;32m   1315\u001b[0m \u001b[39mself\u001b[39m\u001b[39m.\u001b[39mlogger\u001b[39m.\u001b[39mexception(e)\n\u001b[0;32m-> 1316\u001b[0m sys\u001b[39m.\u001b[39;49mexit(\u001b[39m-\u001b[39;49m\u001b[39m1\u001b[39;49m)\n",
      "\u001b[0;31mSystemExit\u001b[0m: -1",
      "\nDuring handling of the above exception, another exception occurred:\n",
      "\u001b[0;31mAttributeError\u001b[0m                            Traceback (most recent call last)",
      "    \u001b[0;31m[... skipping hidden 1 frame]\u001b[0m\n",
      "File \u001b[0;32m~/Library/Python/3.11/lib/python/site-packages/IPython/core/interactiveshell.py:2119\u001b[0m, in \u001b[0;36mInteractiveShell.showtraceback\u001b[0;34m(self, exc_tuple, filename, tb_offset, exception_only, running_compiled_code)\u001b[0m\n\u001b[1;32m   2116\u001b[0m \u001b[39mif\u001b[39;00m exception_only:\n\u001b[1;32m   2117\u001b[0m     stb \u001b[39m=\u001b[39m [\u001b[39m'\u001b[39m\u001b[39mAn exception has occurred, use \u001b[39m\u001b[39m%\u001b[39m\u001b[39mtb to see \u001b[39m\u001b[39m'\u001b[39m\n\u001b[1;32m   2118\u001b[0m            \u001b[39m'\u001b[39m\u001b[39mthe full traceback.\u001b[39m\u001b[39m\\n\u001b[39;00m\u001b[39m'\u001b[39m]\n\u001b[0;32m-> 2119\u001b[0m     stb\u001b[39m.\u001b[39mextend(\u001b[39mself\u001b[39;49m\u001b[39m.\u001b[39;49mInteractiveTB\u001b[39m.\u001b[39;49mget_exception_only(etype,\n\u001b[1;32m   2120\u001b[0m                                                      value))\n\u001b[1;32m   2121\u001b[0m \u001b[39melse\u001b[39;00m:\n\u001b[1;32m   2123\u001b[0m     \u001b[39mdef\u001b[39;00m \u001b[39mcontains_exceptiongroup\u001b[39m(val):\n",
      "File \u001b[0;32m~/Library/Python/3.11/lib/python/site-packages/IPython/core/ultratb.py:710\u001b[0m, in \u001b[0;36mListTB.get_exception_only\u001b[0;34m(self, etype, value)\u001b[0m\n\u001b[1;32m    702\u001b[0m \u001b[39mdef\u001b[39;00m \u001b[39mget_exception_only\u001b[39m(\u001b[39mself\u001b[39m, etype, value):\n\u001b[1;32m    703\u001b[0m \u001b[39m    \u001b[39m\u001b[39m\"\"\"Only print the exception type and message, without a traceback.\u001b[39;00m\n\u001b[1;32m    704\u001b[0m \n\u001b[1;32m    705\u001b[0m \u001b[39m    Parameters\u001b[39;00m\n\u001b[0;32m   (...)\u001b[0m\n\u001b[1;32m    708\u001b[0m \u001b[39m    value : exception value\u001b[39;00m\n\u001b[1;32m    709\u001b[0m \u001b[39m    \"\"\"\u001b[39;00m\n\u001b[0;32m--> 710\u001b[0m     \u001b[39mreturn\u001b[39;00m ListTB\u001b[39m.\u001b[39;49mstructured_traceback(\u001b[39mself\u001b[39;49m, etype, value)\n",
      "File \u001b[0;32m~/Library/Python/3.11/lib/python/site-packages/IPython/core/ultratb.py:568\u001b[0m, in \u001b[0;36mListTB.structured_traceback\u001b[0;34m(self, etype, evalue, etb, tb_offset, context)\u001b[0m\n\u001b[1;32m    565\u001b[0m     chained_exc_ids\u001b[39m.\u001b[39madd(\u001b[39mid\u001b[39m(exception[\u001b[39m1\u001b[39m]))\n\u001b[1;32m    566\u001b[0m     chained_exceptions_tb_offset \u001b[39m=\u001b[39m \u001b[39m0\u001b[39m\n\u001b[1;32m    567\u001b[0m     out_list \u001b[39m=\u001b[39m (\n\u001b[0;32m--> 568\u001b[0m         \u001b[39mself\u001b[39;49m\u001b[39m.\u001b[39;49mstructured_traceback(\n\u001b[1;32m    569\u001b[0m             etype,\n\u001b[1;32m    570\u001b[0m             evalue,\n\u001b[1;32m    571\u001b[0m             (etb, chained_exc_ids),  \u001b[39m# type: ignore\u001b[39;49;00m\n\u001b[1;32m    572\u001b[0m             chained_exceptions_tb_offset,\n\u001b[1;32m    573\u001b[0m             context,\n\u001b[1;32m    574\u001b[0m         )\n\u001b[1;32m    575\u001b[0m         \u001b[39m+\u001b[39m chained_exception_message\n\u001b[1;32m    576\u001b[0m         \u001b[39m+\u001b[39m out_list)\n\u001b[1;32m    578\u001b[0m \u001b[39mreturn\u001b[39;00m out_list\n",
      "File \u001b[0;32m~/Library/Python/3.11/lib/python/site-packages/IPython/core/ultratb.py:1435\u001b[0m, in \u001b[0;36mAutoFormattedTB.structured_traceback\u001b[0;34m(self, etype, evalue, etb, tb_offset, number_of_lines_of_context)\u001b[0m\n\u001b[1;32m   1433\u001b[0m \u001b[39melse\u001b[39;00m:\n\u001b[1;32m   1434\u001b[0m     \u001b[39mself\u001b[39m\u001b[39m.\u001b[39mtb \u001b[39m=\u001b[39m etb\n\u001b[0;32m-> 1435\u001b[0m \u001b[39mreturn\u001b[39;00m FormattedTB\u001b[39m.\u001b[39;49mstructured_traceback(\n\u001b[1;32m   1436\u001b[0m     \u001b[39mself\u001b[39;49m, etype, evalue, etb, tb_offset, number_of_lines_of_context\n\u001b[1;32m   1437\u001b[0m )\n",
      "File \u001b[0;32m~/Library/Python/3.11/lib/python/site-packages/IPython/core/ultratb.py:1326\u001b[0m, in \u001b[0;36mFormattedTB.structured_traceback\u001b[0;34m(self, etype, value, tb, tb_offset, number_of_lines_of_context)\u001b[0m\n\u001b[1;32m   1323\u001b[0m mode \u001b[39m=\u001b[39m \u001b[39mself\u001b[39m\u001b[39m.\u001b[39mmode\n\u001b[1;32m   1324\u001b[0m \u001b[39mif\u001b[39;00m mode \u001b[39min\u001b[39;00m \u001b[39mself\u001b[39m\u001b[39m.\u001b[39mverbose_modes:\n\u001b[1;32m   1325\u001b[0m     \u001b[39m# Verbose modes need a full traceback\u001b[39;00m\n\u001b[0;32m-> 1326\u001b[0m     \u001b[39mreturn\u001b[39;00m VerboseTB\u001b[39m.\u001b[39;49mstructured_traceback(\n\u001b[1;32m   1327\u001b[0m         \u001b[39mself\u001b[39;49m, etype, value, tb, tb_offset, number_of_lines_of_context\n\u001b[1;32m   1328\u001b[0m     )\n\u001b[1;32m   1329\u001b[0m \u001b[39melif\u001b[39;00m mode \u001b[39m==\u001b[39m \u001b[39m'\u001b[39m\u001b[39mMinimal\u001b[39m\u001b[39m'\u001b[39m:\n\u001b[1;32m   1330\u001b[0m     \u001b[39mreturn\u001b[39;00m ListTB\u001b[39m.\u001b[39mget_exception_only(\u001b[39mself\u001b[39m, etype, value)\n",
      "File \u001b[0;32m~/Library/Python/3.11/lib/python/site-packages/IPython/core/ultratb.py:1173\u001b[0m, in \u001b[0;36mVerboseTB.structured_traceback\u001b[0;34m(self, etype, evalue, etb, tb_offset, number_of_lines_of_context)\u001b[0m\n\u001b[1;32m   1164\u001b[0m \u001b[39mdef\u001b[39;00m \u001b[39mstructured_traceback\u001b[39m(\n\u001b[1;32m   1165\u001b[0m     \u001b[39mself\u001b[39m,\n\u001b[1;32m   1166\u001b[0m     etype: \u001b[39mtype\u001b[39m,\n\u001b[0;32m   (...)\u001b[0m\n\u001b[1;32m   1170\u001b[0m     number_of_lines_of_context: \u001b[39mint\u001b[39m \u001b[39m=\u001b[39m \u001b[39m5\u001b[39m,\n\u001b[1;32m   1171\u001b[0m ):\n\u001b[1;32m   1172\u001b[0m \u001b[39m    \u001b[39m\u001b[39m\"\"\"Return a nice text document describing the traceback.\"\"\"\u001b[39;00m\n\u001b[0;32m-> 1173\u001b[0m     formatted_exception \u001b[39m=\u001b[39m \u001b[39mself\u001b[39;49m\u001b[39m.\u001b[39;49mformat_exception_as_a_whole(etype, evalue, etb, number_of_lines_of_context,\n\u001b[1;32m   1174\u001b[0m                                                            tb_offset)\n\u001b[1;32m   1176\u001b[0m     colors \u001b[39m=\u001b[39m \u001b[39mself\u001b[39m\u001b[39m.\u001b[39mColors  \u001b[39m# just a shorthand + quicker name lookup\u001b[39;00m\n\u001b[1;32m   1177\u001b[0m     colorsnormal \u001b[39m=\u001b[39m colors\u001b[39m.\u001b[39mNormal  \u001b[39m# used a lot\u001b[39;00m\n",
      "File \u001b[0;32m~/Library/Python/3.11/lib/python/site-packages/IPython/core/ultratb.py:1063\u001b[0m, in \u001b[0;36mVerboseTB.format_exception_as_a_whole\u001b[0;34m(self, etype, evalue, etb, number_of_lines_of_context, tb_offset)\u001b[0m\n\u001b[1;32m   1060\u001b[0m \u001b[39massert\u001b[39;00m \u001b[39misinstance\u001b[39m(tb_offset, \u001b[39mint\u001b[39m)\n\u001b[1;32m   1061\u001b[0m head \u001b[39m=\u001b[39m \u001b[39mself\u001b[39m\u001b[39m.\u001b[39mprepare_header(\u001b[39mstr\u001b[39m(etype), \u001b[39mself\u001b[39m\u001b[39m.\u001b[39mlong_header)\n\u001b[1;32m   1062\u001b[0m records \u001b[39m=\u001b[39m (\n\u001b[0;32m-> 1063\u001b[0m     \u001b[39mself\u001b[39;49m\u001b[39m.\u001b[39;49mget_records(etb, number_of_lines_of_context, tb_offset) \u001b[39mif\u001b[39;00m etb \u001b[39melse\u001b[39;00m []\n\u001b[1;32m   1064\u001b[0m )\n\u001b[1;32m   1066\u001b[0m frames \u001b[39m=\u001b[39m []\n\u001b[1;32m   1067\u001b[0m skipped \u001b[39m=\u001b[39m \u001b[39m0\u001b[39m\n",
      "File \u001b[0;32m~/Library/Python/3.11/lib/python/site-packages/IPython/core/ultratb.py:1131\u001b[0m, in \u001b[0;36mVerboseTB.get_records\u001b[0;34m(self, etb, number_of_lines_of_context, tb_offset)\u001b[0m\n\u001b[1;32m   1129\u001b[0m \u001b[39mwhile\u001b[39;00m cf \u001b[39mis\u001b[39;00m \u001b[39mnot\u001b[39;00m \u001b[39mNone\u001b[39;00m:\n\u001b[1;32m   1130\u001b[0m     \u001b[39mtry\u001b[39;00m:\n\u001b[0;32m-> 1131\u001b[0m         mod \u001b[39m=\u001b[39m inspect\u001b[39m.\u001b[39mgetmodule(cf\u001b[39m.\u001b[39;49mtb_frame)\n\u001b[1;32m   1132\u001b[0m         \u001b[39mif\u001b[39;00m mod \u001b[39mis\u001b[39;00m \u001b[39mnot\u001b[39;00m \u001b[39mNone\u001b[39;00m:\n\u001b[1;32m   1133\u001b[0m             mod_name \u001b[39m=\u001b[39m mod\u001b[39m.\u001b[39m\u001b[39m__name__\u001b[39m\n",
      "\u001b[0;31mAttributeError\u001b[0m: 'tuple' object has no attribute 'tb_frame'"
     ]
    }
   ],
   "source": [
    "with open(\"dataset.csv\") as file:\n",
    "    reader = csv.reader(file)\n",
    "\n",
    "    for row in reader:\n",
    "        xs = np.fromstring(row[1][1:-1], sep=\", \")\n",
    "        ys = np.fromstring(row[2][1:-1], sep=\", \")\n",
    "\n",
    "\n",
    "def fitness_func(ga_instance, solution, solution_idx):\n",
    "  return tree_representation.fitness(solution, xs, ys)\n",
    "  \n",
    "\n",
    "class CustomIndividual:\n",
    "    def __init__(self, gene):\n",
    "        self.gene = gene\n",
    "        self.fitness = self.calculate_fitness()\n",
    "\n",
    "    def calculate_fitness(self):\n",
    "        # Implement your custom fitness calculation logic here.\n",
    "        return 0.0 \n",
    "\n",
    "\n",
    "initial_population = [CustomIndividual(1) for _ in range(50)]\n",
    "\n",
    "\n",
    "def crossover_func(parents, offspring_size, ga_instance):\n",
    "  assert offspring_size == 2\n",
    "  \n",
    "  offspring = []\n",
    "\n",
    "  t1, t2 = tree_representation.crossover_tree(parents[0], parents[1])\n",
    "\n",
    "  # while len(offspring) != offspring_size[0]:\n",
    "  #    split_point = np.random.randint(0, 1)\n",
    "  #    offspring.append(np.array([parents[0, split_point], parents[1, 1-split_point]]))\n",
    "  \n",
    "  # offspring.append(np.array([parents[0][0], parents[1][1]]))\n",
    "  # offspring.append(np.array([parents[1][0], parents[0][1]]))\n",
    "\n",
    "  offspring.append(t1)\n",
    "  offspring.append(t2)\n",
    "\n",
    "  return offspring\n",
    "\n",
    "\n",
    "def mutation_func(offspring, ga_instance):\n",
    "    print(\"OFFSPRING\", offspring)\n",
    "    \n",
    "    # for chromosome_idx in range(offspring.shape[0]):\n",
    "    #    offspring[chromosome_idx, 0] += np.random.randint(-5, 5)\n",
    "    #    offspring[chromosome_idx, 1] += np.random.randint(-5, 5)\n",
    "    return offspring\n",
    "\n",
    "\n",
    "ga_instance = pygad.GA(num_generations=100,\n",
    "                       num_parents_mating=2,\n",
    "                       initial_population=initial_population,\n",
    "                       fitness_func=fitness_func,\n",
    "                       crossover_type=crossover_func,\n",
    "                       mutation_type=mutation_func,\n",
    "                       )\n",
    "\n",
    "ga_instance.run()\n",
    "\n",
    "solution, solution_fitness, solution_idx = ga_instance.best_solution()\n",
    "\n",
    "solution, solution_fitness"
   ]
  }
 ],
 "metadata": {
  "kernelspec": {
   "display_name": "Python 3",
   "language": "python",
   "name": "python3"
  },
  "language_info": {
   "codemirror_mode": {
    "name": "ipython",
    "version": 3
   },
   "file_extension": ".py",
   "mimetype": "text/x-python",
   "name": "python",
   "nbconvert_exporter": "python",
   "pygments_lexer": "ipython3",
   "version": "3.11.6"
  }
 },
 "nbformat": 4,
 "nbformat_minor": 2
}
