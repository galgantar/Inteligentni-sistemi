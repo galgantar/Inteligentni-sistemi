{
 "cells": [
  {
   "cell_type": "code",
   "execution_count": 1,
   "metadata": {},
   "outputs": [],
   "source": [
    "import numpy as np\n",
    "import pygad\n",
    "import tree_representation\n",
    "import csv"
   ]
  },
  {
   "cell_type": "code",
   "execution_count": 8,
   "metadata": {},
   "outputs": [
    {
     "name": "stdout",
     "output_type": "stream",
     "text": [
      "Best solution - + - -10.00 8.00 ^ - x -1.00 / -8.00 - 5.00 7.00 / 9.00 4.00\n",
      "Best fitness -104235875.25750001\n"
     ]
    }
   ],
   "source": [
    "equation_index = 1\n",
    "\n",
    "with open(\"dataset.csv\") as file:\n",
    "    reader = csv.reader(file)\n",
    "\n",
    "    d = 0\n",
    "    for row in reader:\n",
    "        xs = np.fromstring(row[1][1:-1], sep=\", \")\n",
    "        ys = np.fromstring(row[2][1:-1], sep=\", \")\n",
    "        if d == equation_index:\n",
    "           break\n",
    "        d += 1\n",
    "\n",
    "def fitness_func(ga_instance, solution, solution_idx):\n",
    "  tree = tree_representation.fromIntArray(solution)\n",
    "  fit = tree_representation.fitness(tree, xs, ys)\n",
    "  # TODO: dirty hack (why is fitness > 0 sometimes??)\n",
    "  return fit if fit <= 0 else -fit\n",
    "\n",
    "\n",
    "initial_population = [tree_representation.toIntArray(tree_representation.generate_random_tree(0.4)) for _ in range(300)]\n",
    "\n",
    "\n",
    "def crossover_func(parents, offspring_size, ga_instance):\n",
    "  \n",
    "  offspring = []\n",
    "\n",
    "  while len(offspring) != offspring_size[0]:\n",
    "    t1, t2 = tree_representation.fromIntArray(parents[0]), tree_representation.fromIntArray(parents[1])\n",
    "    child, _ = tree_representation.crossover_tree(t1, t2)\n",
    "    offspring.append(tree_representation.toIntArray(child))\n",
    "  return np.array(offspring)\n",
    "\n",
    "\n",
    "def mutation_func(offspring, ga_instance):\n",
    "    new_offspring = []\n",
    "\n",
    "    for t_numerical in offspring:\n",
    "      t = tree_representation.fromIntArray(t_numerical)\n",
    "      t = tree_representation.mutate_tree(t)\n",
    "      new_offspring.append(tree_representation.toIntArray(t))\n",
    "\n",
    "    return np.array(new_offspring)\n",
    "\n",
    "\n",
    "ga_instance = pygad.GA(num_generations=200,\n",
    "                       num_parents_mating=2,\n",
    "                       initial_population=initial_population,\n",
    "                       fitness_func=fitness_func,\n",
    "                       keep_elitism=10,\n",
    "                       crossover_type=crossover_func,\n",
    "                       mutation_type=mutation_func,\n",
    "                       gene_type=np.int8\n",
    "                       )\n",
    "\n",
    "ga_instance.run()\n",
    "\n",
    "solution, solution_fitness, solution_idx = ga_instance.best_solution()\n",
    "\n",
    "print(\"Best solution\", tree_representation.fromIntArray(solution))\n",
    "print(\"Best fitness\", solution_fitness)"
   ]
  }
 ],
 "metadata": {
  "kernelspec": {
   "display_name": "Python 3",
   "language": "python",
   "name": "python3"
  },
  "language_info": {
   "codemirror_mode": {
    "name": "ipython",
    "version": 3
   },
   "file_extension": ".py",
   "mimetype": "text/x-python",
   "name": "python",
   "nbconvert_exporter": "python",
   "pygments_lexer": "ipython3",
   "version": "3.11.6"
  }
 },
 "nbformat": 4,
 "nbformat_minor": 2
}
