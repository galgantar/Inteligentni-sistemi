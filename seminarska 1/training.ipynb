{
 "cells": [
  {
   "cell_type": "code",
   "execution_count": 21,
   "metadata": {},
   "outputs": [],
   "source": [
    "import numpy as np\n",
    "import pygad\n",
    "import tree_representation\n",
    "import csv"
   ]
  },
  {
   "cell_type": "code",
   "execution_count": 26,
   "metadata": {},
   "outputs": [
    {
     "name": "stderr",
     "output_type": "stream",
     "text": [
      "c:\\Users\\Domen\\IS\\Inteligentni-sistemi\\Inteligentni-sistemi\\seminarska 1\\tree_representation.py:37: RuntimeWarning: overflow encountered in multiply\n",
      "  return self.left_child.evaluate(x) * self.right_child.evaluate(x)\n"
     ]
    },
    {
     "name": "stdout",
     "output_type": "stream",
     "text": [
      "/ * - ^ 5.78 6.89 1.76 -1.68 x\n",
      "-1.510768853624169e+22\n"
     ]
    }
   ],
   "source": [
    "with open(\"dataset.csv\") as file:\n",
    "    reader = csv.reader(file)\n",
    "\n",
    "    for row in reader:\n",
    "        xs = np.fromstring(row[1][1:-1], sep=\", \")\n",
    "        ys = np.fromstring(row[2][1:-1], sep=\", \")\n",
    "\n",
    "\n",
    "def fitness_func(ga_instance, solution, solution_idx):\n",
    "  tree = tree_representation.fromIntArray(solution)\n",
    "  return tree_representation.fitness(tree, xs, ys)\n",
    "  \n",
    "\n",
    "class CustomIndividual:\n",
    "    def __init__(self, gene):\n",
    "        self.gene = gene\n",
    "        self.fitness = self.calculate_fitness()\n",
    "\n",
    "    def calculate_fitness(self):\n",
    "        # Implement your custom fitness calculation logic here.\n",
    "        return 0.0 \n",
    "\n",
    "\n",
    "initial_population = [tree_representation.toIntArray(tree_representation.generate_random_tree(0.3)) for _ in range(50)]\n",
    "\n",
    "\n",
    "def crossover_func(parents, offspring_size, ga_instance):\n",
    "  \n",
    "  offspring = []\n",
    "\n",
    "  while len(offspring) != offspring_size[0]:\n",
    "    t1, t2 = tree_representation.fromIntArray(parents[0]), tree_representation.fromIntArray(parents[1])\n",
    "    child, _ = tree_representation.crossover_tree(t1, t2)\n",
    "    offspring.append(tree_representation.toIntArray(child))\n",
    "\n",
    "  return np.array(offspring)\n",
    "\n",
    "\n",
    "def mutation_func(offspring, ga_instance):\n",
    "    print(\"OFFSPRING\", offspring)\n",
    "    \n",
    "    # for chromosome_idx in range(offspring.shape[0]):\n",
    "    #    offspring[chromosome_idx, 0] += np.random.randint(-5, 5)\n",
    "    #    offspring[chromosome_idx, 1] += np.random.randint(-5, 5)\n",
    "    return offspring\n",
    "\n",
    "\n",
    "ga_instance = pygad.GA(num_generations=100,\n",
    "                       num_parents_mating=2,\n",
    "                       initial_population=initial_population,\n",
    "                       fitness_func=fitness_func,\n",
    "                       crossover_type=crossover_func,\n",
    "                       mutation_type=mutation_func,\n",
    "                       gene_type=np.int8\n",
    "                       )\n",
    "\n",
    "ga_instance.run()\n",
    "\n",
    "solution, solution_fitness, solution_idx = ga_instance.best_solution()\n",
    "\n",
    "print(tree_representation.fromIntArray(solution))\n",
    "print(solution_fitness)"
   ]
  }
 ],
 "metadata": {
  "kernelspec": {
   "display_name": "Python 3",
   "language": "python",
   "name": "python3"
  },
  "language_info": {
   "codemirror_mode": {
    "name": "ipython",
    "version": 3
   },
   "file_extension": ".py",
   "mimetype": "text/x-python",
   "name": "python",
   "nbconvert_exporter": "python",
   "pygments_lexer": "ipython3",
   "version": "3.10.11"
  }
 },
 "nbformat": 4,
 "nbformat_minor": 2
}
